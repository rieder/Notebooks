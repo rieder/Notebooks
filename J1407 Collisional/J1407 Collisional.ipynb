{
 "cells": [
  {
   "cell_type": "markdown",
   "metadata": {
    "deletable": true,
    "editable": true,
    "slideshow": {
     "slide_type": "slide"
    }
   },
   "source": [
    "# Forming rings and moons\n",
    "## Steven Rieder\n",
    "### Makinolab seminar 2017年3月22日\n",
    "#### E: steven@rieder.nl  \n",
    "#### T: @rieder\n",
    "![AMUSE](AmuseLogo2.pdf)"
   ]
  },
  {
   "cell_type": "markdown",
   "metadata": {
    "deletable": true,
    "editable": true,
    "slideshow": {
     "slide_type": "slide"
    }
   },
   "source": [
    "Last year's project: stability of J1407b's disc ([Rieder & Kenworthy 2016](https://stevenrieder.com/wp-content/uploads/2016/02/aa29567-16.pdf))\n",
    "\n",
    "![RIKEN Research Winter 2016 issue](rr201612.jpg)"
   ]
  },
  {
   "cell_type": "markdown",
   "metadata": {
    "deletable": true,
    "editable": true,
    "slideshow": {
     "slide_type": "subslide"
    }
   },
   "source": [
    "<video controls>\n",
    "  <source src=\"model.mp4\" type=\"video/mp4\">\n",
    "</video>\n",
    "\n",
    "Observed light curve of J1407 during the 2007 eclipse, and the fitted model."
   ]
  },
  {
   "cell_type": "markdown",
   "metadata": {
    "deletable": true,
    "editable": true,
    "slideshow": {
     "slide_type": "subslide"
    }
   },
   "source": [
    "<video controls>\n",
    "  <source src=\"J1407b-e065-p11-m80-short.m4v\" type=\"video/mp4\">\n",
    "</video>\n",
    "\n",
    "Our conclusion: the disc can exist as theorised, but only if it is rotating retrograde."
   ]
  },
  {
   "cell_type": "markdown",
   "metadata": {
    "deletable": true,
    "editable": true,
    "slideshow": {
     "slide_type": "subslide"
    }
   },
   "source": [
    "This research was based on *collisionless* simulations using AMUSE(1) with Rebound(2).\n",
    "As such, it was insufficient to explore the existence of rings and possibly moons.\n",
    "\n",
    "\n",
    "1): Pelupessy *et al.* 2013, Portegies Zwart *et al.* 2009\n",
    "\n",
    "2): Rein & Liu 2012"
   ]
  },
  {
   "cell_type": "markdown",
   "metadata": {
    "deletable": true,
    "editable": true,
    "slideshow": {
     "slide_type": "slide"
    }
   },
   "source": [
    "Next: try to explain rings/gaps of J1407b as well.\n",
    "\n",
    "Method: repeat and expand on previous J1407b study with a set of collisional simulations.\n",
    "\n",
    "Project URL: [https://github.com/rieder/Collisional-Rings]"
   ]
  },
  {
   "cell_type": "markdown",
   "metadata": {
    "deletable": true,
    "editable": true,
    "slideshow": {
     "slide_type": "subslide"
    }
   },
   "source": [
    "First step: test collisional code by reproducing earlier work in this field (with Hosono *et al.*)\n",
    "\n",
    "Work of choice for this: the formation of Earth's moon (Kokubo *et al.* 2000).\n",
    "\n",
    "This work was done on a ~1TFlops specialised computer (HARP-3/GRAPE-4), so it should be repeatable with a decent runtime on a single modern GPU/multi-core CPU machine."
   ]
  },
  {
   "cell_type": "markdown",
   "metadata": {
    "deletable": true,
    "editable": true,
    "slideshow": {
     "slide_type": "subslide"
    }
   },
   "source": [
    "Code set-up: AMUSE script with choice of gravity integrators. \n",
    "\n",
    "All of these support AMUSE stopping conditions, meaning they will pass on to AMUSE a list of colliding particles. \n",
    "\n",
    "The collisions are resolved in AMUSE, and the resolution is passed back to the gravity code."
   ]
  },
  {
   "cell_type": "markdown",
   "metadata": {
    "deletable": true,
    "editable": true,
    "slideshow": {
     "slide_type": "subslide"
    }
   },
   "source": [
    "First test: using Rebound with the WHFast integrator (Rein & Tamayo 2015). This codeset was used in my earlier calculations. \n",
    "\n",
    "WHFast is a Wisdom-Holman symplectic integrator, that can use up to 11th order symplectic correctors. \n",
    "It is parallellised using OpenMP and/or MPI (in the AMUSE interface, currently only OpenMP works)."
   ]
  },
  {
   "cell_type": "markdown",
   "metadata": {
    "deletable": true,
    "editable": true,
    "slideshow": {
     "slide_type": "subslide"
    }
   },
   "source": [
    "<video controls>\n",
    "  <source src=\"testrun.mp4\" type=\"video/mp4\">\n",
    "</video>\n",
    "\n",
    "Current result with WHFast: similar results to K+2000 up to a few Kepler orbits at Roche radius ($T_K$), but it deviates after this. Notably: no clumps seem to form and last...\n",
    "\n",
    "So WHFast is probably not the appropriate integrator for this collisional work."
   ]
  },
  {
   "cell_type": "markdown",
   "metadata": {
    "deletable": true,
    "editable": true,
    "slideshow": {
     "slide_type": "subslide"
    }
   },
   "source": [
    "Other choices of integrators within Rebound:\n",
    "- WHFast-Helio\n",
    "- Leapfrog \n",
    "- IAS15 \n",
    "- Hermes"
   ]
  },
  {
   "cell_type": "markdown",
   "metadata": {
    "deletable": true,
    "editable": true,
    "slideshow": {
     "slide_type": "subslide"
    }
   },
   "source": [
    "WHFast-Helio: uses a democratic heliocentric coordinate system, non-symplectic, solves the two body problem exactly (under development, significantly changed yesterday...). \n",
    "\n",
    "Leapfrog (can be used with a Tree code): fastest, simplest, but probably not the best choice...\n",
    "\n",
    "IAS15: 15th order integrator, non-symplectic. Very accurate, but also very slow.\n",
    "\n",
    "Hermes: hybrid code. Uses WHFast(-Helio) to integrate orbits, unless particles are within some adjustable distance of each other. In that case, it uses a mini-simulation for these particles, using IAS15.\n",
    "\n",
    "The Hermes approach is similar to AMUSE/Multiples, which might also be a good choice in combination with WHFast or another integrator."
   ]
  },
  {
   "cell_type": "markdown",
   "metadata": {
    "deletable": true,
    "editable": true,
    "slideshow": {
     "slide_type": "subslide"
    }
   },
   "source": [
    "Hermes seems to be the best option, with the right choice of switchover radius between IAS15 and WHFast. However, I have no results for this yet, as the AMUSE interface to Rebound is not complete yet and the default settings result in IAS15-only interactions..."
   ]
  },
  {
   "cell_type": "markdown",
   "metadata": {
    "deletable": true,
    "editable": true,
    "slideshow": {
     "slide_type": "slide"
    }
   },
   "source": [
    "Moving from simulating the Moon's formation to simulating J1407b will change the following:\n",
    "- J1407b is on a highly eccentric orbit around a star\n",
    "- The system is highly extended, so there is not one single \"central object\"...\n",
    "- Accurate physical representation would require a very large number of particles..."
   ]
  },
  {
   "cell_type": "markdown",
   "metadata": {
    "deletable": true,
    "editable": true,
    "slideshow": {
     "slide_type": "slide"
    }
   },
   "source": [
    "Work continues... \n",
    "\n",
    "I'd be happy to have more collaboration on the project to simulate J1407b's rings (current collaborators: Natsuki Hosono, Matthew Kenworthy). \n",
    "\n",
    "Please contact me if you have ideas!"
   ]
  }
 ],
 "metadata": {
  "celltoolbar": "Slideshow",
  "kernelspec": {
   "display_name": "Python 2",
   "language": "python",
   "name": "python2"
  },
  "language_info": {
   "codemirror_mode": {
    "name": "ipython",
    "version": 2
   },
   "file_extension": ".py",
   "mimetype": "text/x-python",
   "name": "python",
   "nbconvert_exporter": "python",
   "pygments_lexer": "ipython2",
   "version": "2.7.13"
  }
 },
 "nbformat": 4,
 "nbformat_minor": 2
}
